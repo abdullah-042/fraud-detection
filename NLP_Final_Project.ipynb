{
  "nbformat": 4,
  "nbformat_minor": 0,
  "metadata": {
    "colab": {
      "provenance": []
    },
    "kernelspec": {
      "name": "python3",
      "display_name": "Python 3"
    },
    "language_info": {
      "name": "python"
    }
  },
  "cells": [
    {
      "cell_type": "code",
      "source": [
        "pip install duckduckgo-search"
      ],
      "metadata": {
        "id": "Idmasyauyend"
      },
      "execution_count": null,
      "outputs": []
    },
    {
      "cell_type": "code",
      "source": [
        "pip install sentence-transformers"
      ],
      "metadata": {
        "id": "JRLYy9q-zLx9"
      },
      "execution_count": null,
      "outputs": []
    },
    {
      "cell_type": "code",
      "source": [
        "!pip install -q \"accelerate>=0.16.0,<1\" \"transformers[torch]>=4.28.1,<5\" \"torch>=1.13.1,<2\""
      ],
      "metadata": {
        "id": "wRE6tllWynbN"
      },
      "execution_count": null,
      "outputs": []
    },
    {
      "cell_type": "code",
      "source": [
        "pip install accelerate"
      ],
      "metadata": {
        "id": "nEGPxD8bzSEA"
      },
      "execution_count": null,
      "outputs": []
    },
    {
      "cell_type": "code",
      "source": [
        "import time"
      ],
      "metadata": {
        "id": "W-Nt62gI4WqD"
      },
      "execution_count": 13,
      "outputs": []
    },
    {
      "cell_type": "code",
      "execution_count": 6,
      "metadata": {
        "id": "Ef7woP_2c5vD"
      },
      "outputs": [],
      "source": [
        "import requests\n",
        "import time\n",
        "from bs4 import BeautifulSoup\n",
        "from googlesearch import search\n",
        "from difflib import SequenceMatcher\n",
        "from transformers import pipeline\n",
        "from sentence_transformers import SentenceTransformer, util\n",
        "import torch"
      ]
    },
    {
      "cell_type": "markdown",
      "source": [
        "See: https://huggingface.co/distilbert/distilbert-base-cased-distilled-squad"
      ],
      "metadata": {
        "id": "L7DDFsryekT2"
      }
    },
    {
      "cell_type": "code",
      "source": [
        "# Function to extract text from webpage using BeautifulSoup\n",
        "def get_text(website_urls):\n",
        "    texts = []\n",
        "    for url in website_urls:\n",
        "        response = requests.get(url)\n",
        "        if response.status_code == 200:\n",
        "            soup = BeautifulSoup(response.content, 'html.parser')\n",
        "            texts.append(soup.get_text())\n",
        "    return [text.lower() for text in texts]\n",
        "\n",
        "# Function to perform Google search and get URLs\n",
        "def google_search(query):\n",
        "    return search(query, num=3, stop=5, pause=2)\n"
      ],
      "metadata": {
        "id": "hlb6632L8Gro"
      },
      "execution_count": 7,
      "outputs": []
    },
    {
      "cell_type": "code",
      "source": [],
      "metadata": {
        "id": "6MsllpRPIEr1"
      },
      "execution_count": null,
      "outputs": []
    },
    {
      "cell_type": "code",
      "source": [
        "import torch\n",
        "dolly_pipeline = pipeline(model=\"databricks/dolly-v2-3b\", torch_dtype=torch.bfloat16, trust_remote_code=True, device_map=\"auto\")"
      ],
      "metadata": {
        "id": "t0IFeucyHwaJ",
        "colab": {
          "base_uri": "https://localhost:8080/"
        },
        "outputId": "a1582978-d079-47b3-daf6-d69f7ff2bce2"
      },
      "execution_count": 8,
      "outputs": [
        {
          "output_type": "stream",
          "name": "stderr",
          "text": [
            "/usr/local/lib/python3.10/dist-packages/huggingface_hub/utils/_token.py:88: UserWarning: \n",
            "The secret `HF_TOKEN` does not exist in your Colab secrets.\n",
            "To authenticate with the Hugging Face Hub, create a token in your settings tab (https://huggingface.co/settings/tokens), set it as secret in your Google Colab and restart your session.\n",
            "You will be able to reuse this secret in all of your notebooks.\n",
            "Please note that authentication is recommended but still optional to access public models or datasets.\n",
            "  warnings.warn(\n",
            "Special tokens have been added in the vocabulary, make sure the associated word embeddings are fine-tuned or trained.\n"
          ]
        }
      ]
    },
    {
      "cell_type": "code",
      "source": [
        "# Getting answer form LLM\n",
        "def get_completion_dolly(input):\n",
        "  prompt = f\"User: {input}\\nResponse from Dolly-v2-3b: \"\n",
        "  dolly_response = dolly_pipeline(prompt, max_new_tokens=500)\n",
        "  return dolly_response[0][\"generated_text\"]"
      ],
      "metadata": {
        "id": "feqeWbnROmy_"
      },
      "execution_count": 9,
      "outputs": []
    },
    {
      "cell_type": "code",
      "source": [],
      "metadata": {
        "id": "jhjaDMe6O9_m"
      },
      "execution_count": null,
      "outputs": []
    },
    {
      "cell_type": "code",
      "source": [
        "# Function to detect scams\n",
        "def detect_scams(user_statement, famous_person):\n",
        "    # Perform Google search, you can use other search engines like duckduckgo as well\n",
        "    search_results = google_search(f'\"{user_statement}\" \"{famous_person}\"')\n",
        "\n",
        "    if search_results:\n",
        "        # Get text content from search results webpages\n",
        "        texts = get_text(search_results)\n",
        "\n",
        "    prompt = f\"Did {famous_person} really say {user_statement} or is it fraud based on {texts}\"\n",
        "\n",
        "    #\n",
        "    #s = time.time()\n",
        "    output = get_completion_dolly(prompt)\n",
        "\n",
        "    return output"
      ],
      "metadata": {
        "id": "PRI1My-WDz6A"
      },
      "execution_count": 10,
      "outputs": []
    },
    {
      "cell_type": "code",
      "source": [
        "# Example usage\n",
        "user_statement = input(\"Enter your statement: \")\n",
        "famous_person = input(\"Enter the name of the famous person: \")\n",
        "detect_scams(user_statement, famous_person)"
      ],
      "metadata": {
        "colab": {
          "base_uri": "https://localhost:8080/",
          "height": 70
        },
        "id": "ZZ9qm5ek8LKd",
        "outputId": "0e1e49d9-c38a-489e-c095-a8d6d07ad1d8"
      },
      "execution_count": 11,
      "outputs": [
        {
          "name": "stdout",
          "output_type": "stream",
          "text": [
            "Enter your statement: buy le creuset cookware set\n",
            "Enter the name of the famous person: taylor swift\n"
          ]
        },
        {
          "output_type": "execute_result",
          "data": {
            "text/plain": [
              "'Taylor Swift said both in the same teleconference, she did not say buy Le Creuset, this is a fraud.'"
            ],
            "application/vnd.google.colaboratory.intrinsic+json": {
              "type": "string"
            }
          },
          "metadata": {},
          "execution_count": 11
        }
      ]
    }
  ]
}